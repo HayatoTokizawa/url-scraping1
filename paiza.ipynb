{
 "cells": [
  {
   "cell_type": "code",
   "execution_count": null,
   "metadata": {},
   "outputs": [],
   "source": [
    "N = int(input())\n",
    "s = [input().split() for i in range(N)]\n",
    "\n",
    "l = 0\n",
    "m = 0\n",
    "\n",
    "for p in s:\n",
    "    if p[0] == \"SET\" and int(p[1]) == 1:\n",
    "        l = int(p[2])\n",
    "    elif p[0] == \"SET\" and int(p[1]) == 2:\n",
    "        m = int(p[2])\n",
    "    elif p[0] == \"SUB\":\n",
    "        m = l - int(p[1])\n",
    "    else:\n",
    "        m = l + int(p[1])\n",
    "    \n",
    "print(str(l) + \" \" + str(m))"
   ]
  }
 ],
 "metadata": {
  "kernelspec": {
   "display_name": "Python 3",
   "language": "python",
   "name": "python3"
  },
  "language_info": {
   "codemirror_mode": {
    "name": "ipython",
    "version": 3
   },
   "file_extension": ".py",
   "mimetype": "text/x-python",
   "name": "python",
   "nbconvert_exporter": "python",
   "pygments_lexer": "ipython3",
   "version": "3.7.1"
  }
 },
 "nbformat": 4,
 "nbformat_minor": 2
}

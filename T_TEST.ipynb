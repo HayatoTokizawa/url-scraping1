{
 "cells": [
  {
   "cell_type": "code",
   "execution_count": 36,
   "metadata": {},
   "outputs": [
    {
     "name": "stdout",
     "output_type": "stream",
     "text": [
      "t値: -2.839916116783853\n",
      "p値: 0.21553714017115647\n",
      "このデータ群の平均値の差は優位とはいえません\n"
     ]
    }
   ],
   "source": [
    "# 関連性のあるデータセットを扱う場合の時のT検定\n",
    "# 異なる試験の同じ学生セットのスコア、同じユニットからの繰り返しのサンプリング\n",
    "\n",
    "import numpy as np\n",
    "import pandas as pd\n",
    "import matplotlib.pyplot as plt\n",
    "from scipy import stats\n",
    "\n",
    "# notebook上にmatplotのグラフを表示するようにする\n",
    "%matplotlib inline\n",
    "\n",
    "sales = pd.read_excel(r\"C:\\Users\\ballr\\OneDrive\\ドキュメント\\sales.xlsx\")\n",
    "sales.head()\n",
    "\n",
    "t,p = stats.ttest_rel(sales[\"DB1\"], sales[\"DB2\"])\n",
    "print(\"t値: \" + str(t))\n",
    "print(\"p値: \" + str(p))\n",
    "\n",
    "if p_value < 0.05:\n",
    "    print(\"このデータ群の平均値の差は優位です\")\n",
    "\n",
    "else:\n",
    "    print(\"このデータ群の平均値の差は優位とはいえません\")"
   ]
  },
  {
   "cell_type": "code",
   "execution_count": 31,
   "metadata": {},
   "outputs": [
    {
     "name": "stdout",
     "output_type": "stream",
     "text": [
      "p値: 0.5984760260184057\n",
      "このデータ群は非等分散とはいえません\n"
     ]
    }
   ],
   "source": [
    "# 等分散かどうかの検定、F値を求める\n",
    "\n",
    "import numpy as np\n",
    "import pandas as pd\n",
    "from scipy import stats\n",
    "\n",
    "# notebook上にmatplotのグラフを表示するようにする\n",
    "\n",
    "sales = pd.read_excel(r\"C:\\Users\\ballr\\OneDrive\\ドキュメント\\sales.xlsx\")\n",
    "\n",
    "f = np.var(sales[\"DB1\"]) / np.var(sales[\"DB2\"])\n",
    "\n",
    "dfx = len(sales[\"DB1\"]) - 1\n",
    "dfy = len(sales[\"DB2\"]) - 1\n",
    "\n",
    "\n",
    "p_value = stats.f.cdf(f, dfx, dfy)\n",
    "print(\"p値: \" + str(p_value))\n",
    "\n",
    "if p_value < 0.05:\n",
    "    print(\"このデータ群は非等分散です\")\n",
    "\n",
    "else:\n",
    "    print(\"このデータ群は非等分散とはいえません\")\n",
    "\n"
   ]
  },
  {
   "cell_type": "code",
   "execution_count": 40,
   "metadata": {},
   "outputs": [
    {
     "name": "stdout",
     "output_type": "stream",
     "text": [
      "t値: -3.9682938537141665\n",
      "p値: 0.05803017145722886\n",
      "このデータ群の平均値の差は優位とはいえません\n"
     ]
    }
   ],
   "source": [
    "# 独立のデータセットを扱う場合のT検定\n",
    "# 例)） 同じテストの結果を男女で比較、異なる民族間での同じテストの値の差の比較など。\n",
    "\n",
    "import numpy as np\n",
    "import pandas as pd\n",
    "from scipy import stats\n",
    "\n",
    "sales = pd.read_excel(r\"C:\\Users\\ballr\\OneDrive\\ドキュメント\\sales.xlsx\")\n",
    "\n",
    "t, p = stats.ttest_ind(sales[\"DB1\"], sales[\"DB2\"],equal_var = True)\n",
    "print(\"t値: \" + str(t))\n",
    "print(\"p値: \" + str(p))\n",
    "\n",
    "if p_value < 0.05:\n",
    "    print(\"このデータ群の平均値の差は優位です\")\n",
    "\n",
    "else:\n",
    "    print(\"このデータ群の平均値の差は優位とはいえません\")"
   ]
  }
 ],
 "metadata": {
  "kernelspec": {
   "display_name": "Python 3",
   "language": "python",
   "name": "python3"
  },
  "language_info": {
   "codemirror_mode": {
    "name": "ipython",
    "version": 3
   },
   "file_extension": ".py",
   "mimetype": "text/x-python",
   "name": "python",
   "nbconvert_exporter": "python",
   "pygments_lexer": "ipython3",
   "version": "3.7.1"
  }
 },
 "nbformat": 4,
 "nbformat_minor": 2
}

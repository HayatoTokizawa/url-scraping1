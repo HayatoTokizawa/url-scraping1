{
 "cells": [
  {
   "cell_type": "code",
   "execution_count": null,
   "metadata": {},
   "outputs": [],
   "source": [
    "N = int(input())\n",
    "M = [input() for i in range(N)]\n",
    "\n",
    "numbers2 = []\n",
    "numbers4 = []\n",
    "\n",
    "for count in range(N):\n",
    "    P = list(str(M[0]))\n",
    "    numbers = [l for l in range(1,17) if l % 2 == 1]\n",
    "    for r in numbers:\n",
    "        numbers2.append(P[r - 1])\n",
    "    \n",
    "    numbers2_replace = [s.replace(\"5\",\"1\").replace(\"6\",\"3\").replace(\"7\",\"5\").replace(\"8\",\"7\") for s in numbers2]\n",
    "    print(numbers2_replace)\n",
    "    Q = [int(q) * 2 for q in numbers2_replace if int(q) <= 4]\n",
    "    S = [int(s) for s in numbers2_replace if int(s) > 4]\n",
    "    \n",
    "    \n",
    "    numbers3 = [m for m in range(1,14) if m % 2 == 1]\n",
    "    print(numbers3)\n",
    "    for x in numbers3:\n",
    "        numbers4.append(int(P[x]))\n",
    "    \n",
    "    Y = (sum(numbers4) + sum(Q) + sum(S))\n",
    "    print(Y)\n"
   ]
  }
 ],
 "metadata": {
  "kernelspec": {
   "display_name": "Python 3",
   "language": "python",
   "name": "python3"
  },
  "language_info": {
   "codemirror_mode": {
    "name": "ipython",
    "version": 3
   },
   "file_extension": ".py",
   "mimetype": "text/x-python",
   "name": "python",
   "nbconvert_exporter": "python",
   "pygments_lexer": "ipython3",
   "version": "3.7.1"
  }
 },
 "nbformat": 4,
 "nbformat_minor": 2
}

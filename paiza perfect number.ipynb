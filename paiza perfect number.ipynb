{
 "cells": [
  {
   "cell_type": "code",
   "execution_count": null,
   "metadata": {},
   "outputs": [],
   "source": [
    "N = int(input())\n",
    "s = [int(input()) for i in range(N)]\n",
    "\n",
    "yakusu_List2 = []\n",
    "\n",
    "number_list =[m for m in s]\n",
    "    \n",
    "for p in number_list:\n",
    "    yakusu_List = [n for n in range(1,p) if p % n == 0]\n",
    "    i = sum(yakusu_List)\n",
    "    x = i - p\n",
    "    if i == p:\n",
    "        print(\"perfect\")\n",
    "    elif abs(x) == 1:\n",
    "        print(\"nearly\")\n",
    "    else:\n",
    "        print(\"neither\")"
   ]
  }
 ],
 "metadata": {
  "kernelspec": {
   "display_name": "Python 3",
   "language": "python",
   "name": "python3"
  },
  "language_info": {
   "codemirror_mode": {
    "name": "ipython",
    "version": 3
   },
   "file_extension": ".py",
   "mimetype": "text/x-python",
   "name": "python",
   "nbconvert_exporter": "python",
   "pygments_lexer": "ipython3",
   "version": "3.7.1"
  }
 },
 "nbformat": 4,
 "nbformat_minor": 2
}

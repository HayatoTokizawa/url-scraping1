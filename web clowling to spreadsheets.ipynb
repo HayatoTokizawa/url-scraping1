{
 "cells": [
  {
   "cell_type": "code",
   "execution_count": 1,
   "metadata": {},
   "outputs": [
    {
     "data": {
      "text/plain": [
       "{'spreadsheetId': '1Utbq1oncNIJ697fUCUGnIO4YDoXvxW6KzVT1Nr52nkg',\n",
       " 'updatedRange': \"'シート1'!B1\",\n",
       " 'updatedRows': 1,\n",
       " 'updatedColumns': 1,\n",
       " 'updatedCells': 1}"
      ]
     },
     "execution_count": 1,
     "metadata": {},
     "output_type": "execute_result"
    }
   ],
   "source": [
    "import gspread\n",
    "import json\n",
    "\n",
    "#ServiceAccountCredentials：Googleの各サービスへアクセスできるservice変数を生成します。\n",
    "from oauth2client.service_account import ServiceAccountCredentials \n",
    "\n",
    "#2つのAPIを記述しないとリフレッシュトークンを3600秒毎に発行し続けなければならない\n",
    "scope = ['https://spreadsheets.google.com/feeds','https://www.googleapis.com/auth/drive']\n",
    "\n",
    "#認証情報設定\n",
    "#ダウンロードしたjsonファイル名をクレデンシャル変数に設定（秘密鍵、Pythonファイルから読み込みしやすい位置に置く）\n",
    "credentials = ServiceAccountCredentials.from_json_keyfile_name(r\"C:\\Users\\en-support0113\\Downloads\\spreadsheet-test-9fa8afe9e1ff.json\", scope)\n",
    "\n",
    "#OAuth2の資格情報を使用してGoogle APIにログインします。\n",
    "gc = gspread.authorize(credentials)\n",
    "\n",
    "#共有設定したスプレッドシートキーを変数[SPREADSHEET_KEY]に格納する。\n",
    "SPREADSHEET_KEY = '1Utbq1oncNIJ697fUCUGnIO4YDoXvxW6KzVT1Nr52nkg'\n",
    "\n",
    "#共有設定したスプレッドシートのシート1を開く\n",
    "worksheet = gc.open_by_key(SPREADSHEET_KEY).sheet1\n",
    "\n",
    "#A1セルの値を受け取る\n",
    "import_value = int(worksheet.acell('A1').value)\n",
    "\n",
    "#A1セルの値に100加算した値をB1セルに表示させる\n",
    "export_value = import_value+100\n",
    "worksheet.update_cell(1,2, export_value)"
   ]
  },
  {
   "cell_type": "code",
   "execution_count": null,
   "metadata": {},
   "outputs": [],
   "source": [
    "import pandas as pd\n",
    "import numpy as np\n",
    "import requests\n",
    "from bs4 import BeautifulSoup\n",
    "import openpyxl\n",
    "import re\n",
    "\n",
    "title_list3 = []\n",
    "time_list3 = []\n",
    "text_list3 = []\n",
    "link_list3 = []\n",
    "url_list3 = []\n",
    "\n",
    "#Access to page\n",
    "url3 = \"https://maonline.jp/articles\"\n",
    "page_1 = requests.get(url3)\n",
    "soup3 = BeautifulSoup(page_1.content, 'html.parser') # BeautifulSoupの初期化\n",
    "tags3 = soup3.find_all('div',{'class':'list new'})\n",
    "\n",
    "for tag3 in tags3:\n",
    "    title_list3.append(tag3.find('h3').text)\n",
    "    time_list3.append(tag3.find('time').text)\n",
    "    text_list3.append(tag3.find('p').text)\n",
    "    link_list3.append(tag3.find('a').get('href'))\n",
    "\n",
    "for number in range(2,15):\n",
    "    url_list3.append(\"https://maonline.jp/articles?page=\" + str(number))\n",
    "\n",
    "for url4 in url_list3:\n",
    "    pages_2 = requests.get(url4)\n",
    "    soup4 = BeautifulSoup(pages_2.content, 'html.parser')\n",
    "    tags4 = soup4.find_all('div',{'class':re.compile(\"^list\")})\n",
    "    for tag4 in tags4:\n",
    "        title_list3.append(tag4.find('h3').text)\n",
    "        time_list3.append(tag4.find('time').text)\n",
    "        text_list3.append(tag4.find('p').text)\n",
    "        link_list3.append(tag4.find('a').get('href'))\n",
    "    \n",
    "pd.set_option('display.max_rows', 500)        \n",
    "my_df3 = pd.DataFrame.from_dict({\"title\": title_list3,\"time\": time_list3,\"text\": text_list3,\"link\": link_list3})\n",
    "\n",
    "import gspread_dataframe as gd\n",
    "\n",
    "# Connecting with `gspread` here\n",
    "\n",
    "ws = gc.open(\"pythonで読み書き\").worksheet(\"シート1\")\n",
    "gd.set_with_dataframe(ws,my_df3)"
   ]
  }
 ],
 "metadata": {
  "kernelspec": {
   "display_name": "Python 3",
   "language": "python",
   "name": "python3"
  },
  "language_info": {
   "codemirror_mode": {
    "name": "ipython",
    "version": 3
   },
   "file_extension": ".py",
   "mimetype": "text/x-python",
   "name": "python",
   "nbconvert_exporter": "python",
   "pygments_lexer": "ipython3",
   "version": "3.7.1"
  }
 },
 "nbformat": 4,
 "nbformat_minor": 2
}

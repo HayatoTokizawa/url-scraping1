{
 "cells": [
  {
   "cell_type": "code",
   "execution_count": 70,
   "metadata": {},
   "outputs": [],
   "source": [
    "import pandas as pd\n",
    "import numpy as np\n",
    "import requests\n",
    "from bs4 import BeautifulSoup\n",
    "import openpyxl\n",
    "\n",
    "title_list = []\n",
    "url_list = []\n",
    "\n",
    "url = \"https://r.nikkei.com/search?keyword=m%26a&volume=200\"\n",
    "\n",
    "html_doc = requests.get(url)\n",
    "soup = BeautifulSoup(html_doc.content, 'html.parser') # BeautifulSoupの初期化\n",
    "tags = soup.find_all('h3',{'class':'nui-card__title'})\n",
    "\n",
    "for tag in tags:\n",
    "        title_list.append(tag.text.replace(\"\\n\",\"\"))\n",
    "        url_list.append(tag.select(\"a\")[0].get(\"href\"))\n",
    "        \n",
    "        \n",
    "my_df = pd.DataFrame.from_dict({\"title\": title_list, \"url\": url_list})\n"
   ]
  },
  {
   "cell_type": "code",
   "execution_count": 75,
   "metadata": {
    "scrolled": true
   },
   "outputs": [],
   "source": [
    "import pandas as pd\n",
    "import numpy as np\n",
    "import requests\n",
    "from bs4 import BeautifulSoup\n",
    "import openpyxl\n",
    "\n",
    "title_list2 = []\n",
    "url_list2 = []\n",
    "\n",
    "url2 = \"https://news.yahoo.co.jp/search/?ei=UTF-8&p=M%26a&st=n\"\n",
    "\n",
    "html_doc2 = requests.get(url2)\n",
    "soup2 = BeautifulSoup(html_doc2.content, 'html.parser') # BeautifulSoupの初期化\n",
    "tags2 = soup2.find_all('h2',{'class':'t'})\n",
    "\n",
    "for tag2 in tags2:\n",
    "        title_list2.append(tag2.text.replace(\"\\n\",\"\"))\n",
    "        url_list2.append(tag2.select(\"a\")[0].get(\"href\"))\n",
    "        \n",
    "for number in range(2,10):\n",
    "    page_tag2 = soup2.find('a',{'title':number})\n",
    "    page_tag2_url = page_tag2.get(\"href\")\n",
    "    responce = requests.get(page_tag2_url)\n",
    "    soup3 = BeautifulSoup(responce.content, 'html.parser') \n",
    "    tags3 = soup3.find_all('h2',{'class':'t'})\n",
    "    for tag3 in tags3:\n",
    "        title_list2.append(tag3.text.replace(\"\\n\",\"\"))\n",
    "        url_list2.append(tag3.select(\"a\")[0].get(\"href\"))\n",
    "        \n",
    "        \n",
    "        \n",
    "my_df2 = pd.DataFrame.from_dict({\"title\": title_list2, \"url\": url_list2})\n",
    "\n",
    "with pd.ExcelWriter(r\"C:\\Program Files\\Python37\\DLLs\\nikkei.xlsx\") as writer:\n",
    "    my_df.to_excel(writer, sheet_name='sheet1')\n",
    "    my_df2.to_excel(writer, sheet_name='sheet2')\n"
   ]
  }
 ],
 "metadata": {
  "kernelspec": {
   "display_name": "Python 3",
   "language": "python",
   "name": "python3"
  },
  "language_info": {
   "codemirror_mode": {
    "name": "ipython",
    "version": 3
   },
   "file_extension": ".py",
   "mimetype": "text/x-python",
   "name": "python",
   "nbconvert_exporter": "python",
   "pygments_lexer": "ipython3",
   "version": "3.7.1"
  }
 },
 "nbformat": 4,
 "nbformat_minor": 2
}

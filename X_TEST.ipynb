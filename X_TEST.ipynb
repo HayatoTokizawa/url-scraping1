{
 "cells": [
  {
   "cell_type": "code",
   "execution_count": 1,
   "metadata": {},
   "outputs": [
    {
     "name": "stdout",
     "output_type": "stream",
     "text": [
      "検定統計量: 4.881662029541069\n",
      "p値: 0.027143470897616286\n",
      "自由度: 1\n",
      "期待度数\n",
      "[[1620.20653398    9.79346602]\n",
      " [1026.79346602    6.20653398]]\n"
     ]
    }
   ],
   "source": [
    "# カイ二乗検定\n",
    "\n",
    "import numpy as np\n",
    "from scipy import stats\n",
    "\n",
    "dat = np.array([[1625,5],[1022,11]])\n",
    "\n",
    "# 検定\n",
    "squared,p,dof,ef = stats.chi2_contingency(dat)\n",
    "print(\"検定統計量: \" + str(squared))\n",
    "print(\"p値: \" + str(p))\n",
    "print(\"自由度: \" + str(dof))\n",
    "print(\"期待度数\")\n",
    "print(str(ef))"
   ]
  }
 ],
 "metadata": {
  "kernelspec": {
   "display_name": "Python 3",
   "language": "python",
   "name": "python3"
  },
  "language_info": {
   "codemirror_mode": {
    "name": "ipython",
    "version": 3
   },
   "file_extension": ".py",
   "mimetype": "text/x-python",
   "name": "python",
   "nbconvert_exporter": "python",
   "pygments_lexer": "ipython3",
   "version": "3.7.1"
  }
 },
 "nbformat": 4,
 "nbformat_minor": 2
}
